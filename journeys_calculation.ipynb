{
 "cells": [
  {
   "cell_type": "code",
   "execution_count": 1,
   "id": "54d63e1e",
   "metadata": {},
   "outputs": [],
   "source": [
    "\n",
    "from src.data_loader import main_loader\n",
    "\n",
    "\n",
    "df = main_loader.process(\"src/data_loader/data/fr-en-annuaire-education.csv\",\n",
    "                         \"src/data_loader/config/lyceesYvelines.json\" )\n",
    "\n",
    "\n",
    "\n"
   ]
  },
  {
   "cell_type": "code",
   "execution_count": 2,
   "id": "292f0a95",
   "metadata": {},
   "outputs": [],
   "source": [
    "from src.data_fetcher.api_requests import main_requests\n",
    "from utils.datetime_manager import format_datetime\n",
    "from utils.json_manager import import_json\n",
    "\n",
    "\n",
    "ref_point = {'latitude' : 48.892325849792655, 'longitude' : 2.2366511276612218}\n",
    "date =\"24/04/2025\"\n",
    "\n",
    "\n",
    "\n",
    "endpoint_df = (df[['identifiant_de_l_etablissement', 'latitude', 'longitude']]\n",
    "                        .copy()\n",
    "                        .rename(columns = {'identifiant_de_l_etablissement' : 'id'}))\n",
    "\n",
    "journey_config = import_json(\"src/data_fetcher/api_requests/config/journey_config.json\")\n",
    "\n",
    "result_folder = f\"src/data_fetcher/api_requests/results/journey_response_{format_datetime(target_format='%d%m%Y_%H%M%S')}\"\n",
    "\n",
    "go_params= {\n",
    "            'result_folder': f\"{result_folder}/go\",\n",
    "            'failed_folder': f\"{result_folder}/go/failed\",\n",
    "            'datetime' : f\"{format_datetime(f'{date} 09:00:00')}\"\n",
    "            }\n",
    "\n",
    "return_params= {\n",
    "            'result_folder': f\"{result_folder}/return\",\n",
    "            'failed_folder': f\"{result_folder}/return/failed\",\n",
    "            'datetime' : f\"{format_datetime(f'{date} 17:00:00')}\"\n",
    "            }\n",
    "\n",
    "main_requests.process(ref_point,\n",
    "                       endpoint_df,\n",
    "                       journey_config,\n",
    "                       go_params,\n",
    "                       return_params)\n",
    "\n"
   ]
  }
 ],
 "metadata": {
  "kernelspec": {
   "display_name": "Python 3",
   "language": "python",
   "name": "python3"
  },
  "language_info": {
   "codemirror_mode": {
    "name": "ipython",
    "version": 3
   },
   "file_extension": ".py",
   "mimetype": "text/x-python",
   "name": "python",
   "nbconvert_exporter": "python",
   "pygments_lexer": "ipython3",
   "version": "3.9.1"
  }
 },
 "nbformat": 4,
 "nbformat_minor": 5
}
